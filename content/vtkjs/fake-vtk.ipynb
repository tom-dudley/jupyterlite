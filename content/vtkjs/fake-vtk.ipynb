{
  "metadata": {
    "kernelspec": {
      "name": "python",
      "display_name": "Python (Pyodide)",
      "language": "python"
    },
    "language_info": {
      "codemirror_mode": {
        "name": "python",
        "version": 3
      },
      "file_extension": ".py",
      "mimetype": "text/x-python",
      "name": "python",
      "nbconvert_exporter": "python",
      "pygments_lexer": "ipython3",
      "version": "3.8"
    }
  },
  "nbformat_minor": 4,
  "nbformat": 4,
  "cells": [
    {
      "cell_type": "code",
      "source": "%pip install webcolors",
      "metadata": {
        "trusted": true
      },
      "outputs": [],
      "execution_count": 1
    },
    {
      "cell_type": "code",
      "source": "import json\nimport webcolors\nfrom IPython.display import display, HTML",
      "metadata": {
        "trusted": true
      },
      "outputs": [],
      "execution_count": 2
    },
    {
      "cell_type": "code",
      "source": "class myCylinderSource():\n    def __init__(\n        self,\n        center  = (0.0, 0.0, 0.0),\n        direction = (1.0, 0.0, 0.0),\n        radius = 0.5,\n        height = 1.0,\n        capping = True,\n        resolution = 100,\n    ) -> None:\n        self.center = center\n        self.direction = direction\n        self.radius = radius\n        self.height = height\n        self.resolution = resolution\n        self.capping = capping\n    def SetHeight(self, x):\n        self.height = x\n    def SetRadius(self, x):\n        self.radius = x\n    def SetResolution(self, x):\n        self.resolution = x",
      "metadata": {
        "trusted": true
      },
      "outputs": [],
      "execution_count": 3
    },
    {
      "cell_type": "code",
      "source": "class myPlotter():\n    template = \"\"\"\n<div id=\"vtk-container\" style=\"width: WIDTHpx; height: HEIGHTpx; border: 1px solid black;\"></div>\n<script type=\"text/javascript\">\n  if (typeof vtk === \"undefined\") {\n    var script = document.createElement(\"script\");\n    script.src = \"https://unpkg.com/vtk.js\";\n    document.head.appendChild(script);\n    script.onload = function() {\n      console.log(\"vtk.js loaded successfully\");\n      // Your vtk.js initialization code here\n    };\n  } else {\n    console.log(\"vtk.js is already loaded\");\n    // Your vtk.js initialization code here\n    var fullScreenRenderer = vtk.Rendering.Misc.vtkFullScreenRenderWindow.newInstance({\n      rootContainer: document.getElementById('vtk-container'),\n    });\n\n    MESH_TEMPLATE\n\n    renderer.resetCamera();\n    var renderWindow = fullScreenRenderer.getRenderWindow();\n    renderWindow.render();\n  }\n</script>\n\"\"\"\n    mesh_template = \"\"\"\n    var object_params_ID = OBJECT_PARAMETERS\n    var actor_params_ID = ACTOR_PARAMETERS\n    \n    var actor_ID = vtk.Rendering.Core.vtkActor.newInstance();\n    actor_ID.getProperty().setColor(...actor_params_ID.color);\n    actor_ID.getProperty().setEdgeVisibility(actor_params_ID.show_edges);\n    \n    var mapper_ID = vtk.Rendering.Core.vtkMapper.newInstance();\n    var cone_ID = vtk.Filters.Sources.vtkConeSource.newInstance();\n\n    var obj_ID = vtk.Filters.Sources.vtkCylinderSource.newInstance(object_params_ID);\n\n    actor_ID.setMapper(mapper_ID);\n    mapper_ID.setInputConnection(obj_ID.getOutputPort());\n\n    var renderer = fullScreenRenderer.getRenderer();\n    renderer.addActor(actor_ID);\n\"\"\"\n    def __init__(self, height=400, width=600):\n        self.height = height\n        self.width = width\n        self.meshes = []\n        self.next_mesh_id = 1\n    def add_mesh(self, mesh, color=\"black\", show_edges=False):\n        # Typing the word 'show' here seems to flip the actual realtime display. I don't understand that..\n        # It does suggest we could have some realtime updating though (i.e. render continously on cell change\n        # Or 'render if it compiles' on cell change\n        self.meshes.append([self.next_mesh_id, mesh, color, show_edges])\n        self.next_mesh_id = self.next_mesh_id + 1\n    def show(self):\n        rendered_meshes = \"\"\n        for [mesh_id, mesh, color, show_edges] in self.meshes:\n            object_params = json.dumps(\n                {\n                    'height': mesh.height,\n                    'radius': mesh.radius,\n                    'resolution': mesh.resolution,\n                }\n            )\n            # NOTE: We could move the RGB bits into JS and parse with canvas\n            actor_params = json.dumps(\n                {\n                    'color':list(webcolors.name_to_rgb(color)),\n                    'show_edges': show_edges,\n                }\n            )\n            rendered_mesh = self.mesh_template \\\n                .replace(\"OBJECT_PARAMETERS\", object_params) \\\n                .replace(\"ACTOR_PARAMETERS\", actor_params) \\\n                .replace(\"ID\", str(mesh_id))\n            rendered_meshes += rendered_mesh\n        # print(rendered_mesh)\n        output = self.template \\\n            .replace(\"HEIGHT\", str(self.height)) \\\n            .replace(\"WIDTH\", str(self.width)) \\\n            .replace(\"MESH_TEMPLATE\", rendered_meshes)\n        # print(output)\n        display(HTML(output))\n        # display(HTML(template.replace(\"MESH_TEMPLATE\", rendered_mesh)))",
      "metadata": {
        "trusted": true
      },
      "outputs": [],
      "execution_count": 10
    },
    {
      "cell_type": "code",
      "source": "c = myCylinderSource()\nc.SetHeight(2)\nc.SetRadius(2)\nc2 = myCylinderSource()\nc2.SetHeight(1)\nc2.SetRadius(3)\nc2.SetResolution(10)\np = myPlotter(height=400)\np.add_mesh(c, color=\"blue\", show_edges=True)\np.add_mesh(c2, color=\"red\", show_edges=True)\np.show()",
      "metadata": {
        "trusted": true
      },
      "outputs": [
        {
          "output_type": "display_data",
          "data": {
            "text/plain": "<IPython.core.display.HTML object>",
            "text/html": "\n<div id=\"vtk-container\" style=\"width: 600px; height: 400px; border: 1px solid black;\"></div>\n<script type=\"text/javascript\">\n  if (typeof vtk === \"undefined\") {\n    var script = document.createElement(\"script\");\n    script.src = \"https://unpkg.com/vtk.js\";\n    document.head.appendChild(script);\n    script.onload = function() {\n      console.log(\"vtk.js loaded successfully\");\n      // Your vtk.js initialization code here\n    };\n  } else {\n    console.log(\"vtk.js is already loaded\");\n    // Your vtk.js initialization code here\n    var fullScreenRenderer = vtk.Rendering.Misc.vtkFullScreenRenderWindow.newInstance({\n      rootContainer: document.getElementById('vtk-container'),\n    });\n\n    \n    var object_params_1 = {\"height\": 2, \"radius\": 2, \"resolution\": 100}\n    var actor_params_1 = {\"color\": [0, 0, 255], \"show_edges\": true}\n    \n    var actor_1 = vtk.Rendering.Core.vtkActor.newInstance();\n    actor_1.getProperty().setColor(...actor_params_1.color);\n    actor_1.getProperty().setEdgeVisibility(actor_params_1.show_edges);\n    \n    var mapper_1 = vtk.Rendering.Core.vtkMapper.newInstance();\n    var cone_1 = vtk.Filters.Sources.vtkConeSource.newInstance();\n\n    var obj_1 = vtk.Filters.Sources.vtkCylinderSource.newInstance(object_params_1);\n\n    actor_1.setMapper(mapper_1);\n    mapper_1.setInputConnection(obj_1.getOutputPort());\n\n    var renderer = fullScreenRenderer.getRenderer();\n    renderer.addActor(actor_1);\n\n    var object_params_2 = {\"height\": 1, \"radius\": 3, \"resolution\": 10}\n    var actor_params_2 = {\"color\": [255, 0, 0], \"show_edges\": true}\n    \n    var actor_2 = vtk.Rendering.Core.vtkActor.newInstance();\n    actor_2.getProperty().setColor(...actor_params_2.color);\n    actor_2.getProperty().setEdgeVisibility(actor_params_2.show_edges);\n    \n    var mapper_2 = vtk.Rendering.Core.vtkMapper.newInstance();\n    var cone_2 = vtk.Filters.Sources.vtkConeSource.newInstance();\n\n    var obj_2 = vtk.Filters.Sources.vtkCylinderSource.newInstance(object_params_2);\n\n    actor_2.setMapper(mapper_2);\n    mapper_2.setInputConnection(obj_2.getOutputPort());\n\n    var renderer = fullScreenRenderer.getRenderer();\n    renderer.addActor(actor_2);\n\n\n    renderer.resetCamera();\n    var renderWindow = fullScreenRenderer.getRenderWindow();\n    renderWindow.render();\n  }\n</script>\n"
          },
          "metadata": {}
        }
      ],
      "execution_count": 11
    },
    {
      "cell_type": "code",
      "source": "",
      "metadata": {
        "trusted": true
      },
      "outputs": [],
      "execution_count": null
    }
  ]
}