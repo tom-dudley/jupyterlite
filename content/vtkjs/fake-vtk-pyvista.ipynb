{
  "metadata": {
    "kernelspec": {
      "name": "python",
      "display_name": "Python (Pyodide)",
      "language": "python"
    },
    "language_info": {
      "codemirror_mode": {
        "name": "python",
        "version": 3
      },
      "file_extension": ".py",
      "mimetype": "text/x-python",
      "name": "python",
      "nbconvert_exporter": "python",
      "pygments_lexer": "ipython3",
      "version": "3.8"
    }
  },
  "nbformat_minor": 4,
  "nbformat": 4,
  "cells": [
    {
      "cell_type": "code",
      "source": "%pip install numpy",
      "metadata": {
        "trusted": true
      },
      "outputs": [],
      "execution_count": 3
    },
    {
      "cell_type": "code",
      "source": "%pip install pyvista --no-deps",
      "metadata": {
        "trusted": true
      },
      "outputs": [],
      "execution_count": 4
    },
    {
      "cell_type": "code",
      "source": "import sys\nimport types\n\n# Step 1: Create the root vtkmodules \"package\"\nvtkmodules = types.ModuleType(\"vtkmodules\")\n\n# Step 2: Create the vtkmodules.vtkCommonCore submodule\nvtkCommonCore = types.ModuleType(\"vtkmodules.vtkCommonCore\")\n\n# Step 3: Define the custom vtkVersion class\nclass vtkVersion:\n    @staticmethod\n    def GetVTKMajorVersion():\n        return 9\n\n    @staticmethod\n    def GetVTKMinorVersion():\n        return 2\n\n    @staticmethod\n    def GetVTKBuildVersion():\n        return 0\n\n# Add vtkVersion and other necessary stubs to vtkCommonCore\nvtkCommonCore.vtkVersion = vtkVersion\n\n# Step 4: Add additional stubs (e.g., vtkCylinderSource) if needed\nclass vtkCylinderSource:\n    def __init__(self):\n        self.height = 1.0\n        self.radius = 0.5\n        self.resolution = 20\n\n    def SetHeight(self, height):\n        self.height = height\n\n    def SetRadius(self, radius):\n        self.radius = radius\n\n    def SetResolution(self, resolution):\n        self.resolution = resolution\n\n    def Update(self):\n        print(f\"vtkCylinderSource updated with Height: {self.height}, Radius: {self.radius}, Resolution: {self.resolution}\")\n\n# Add vtkCylinderSource to vtkCommonCore\nvtkCommonCore.vtkCylinderSource = vtkCylinderSource\n\n# Step 5: Attach the submodule to vtkmodules\nvtkmodules.vtkCommonCore = vtkCommonCore\n\n# Step 6: Inject the fake vtkmodules and its submodules into sys.modules\nsys.modules[\"vtkmodules\"] = vtkmodules\nsys.modules[\"vtkmodules.vtkCommonCore\"] = vtkCommonCore\n\n# Step 7: Test importing and using the custom vtkVersion and vtkCylinderSource\nfrom vtkmodules.vtkCommonCore import vtkVersion, vtkCylinderSource\n\n# Test vtkVersion\nversion = vtkVersion()\nprint(f\"VTK Version: {version.GetVTKMajorVersion()}.{version.GetVTKMinorVersion()}.{version.GetVTKBuildVersion()}\")\n\n# Test vtkCylinderSource\ncylinder = vtkCylinderSource()\ncylinder.SetHeight(2.0)\ncylinder.SetRadius(1.0)\ncylinder.SetResolution(30)\ncylinder.Update()",
      "metadata": {
        "trusted": true
      },
      "outputs": [
        {
          "name": "stdout",
          "text": "VTK Version: 9.2.0\nvtkCylinderSource updated with Height: 2.0, Radius: 1.0, Resolution: 30\n",
          "output_type": "stream"
        }
      ],
      "execution_count": 14
    },
    {
      "cell_type": "code",
      "source": "import pyvista",
      "metadata": {
        "trusted": true
      },
      "outputs": [
        {
          "ename": "<class 'ModuleNotFoundError'>",
          "evalue": "No module named 'vtkmodules.vtkImagingSources'; 'vtkmodules' is not a package",
          "traceback": [
            "\u001b[0;31m---------------------------------------------------------------------------\u001b[0m",
            "\u001b[0;31mModuleNotFoundError\u001b[0m                       Traceback (most recent call last)",
            "Cell \u001b[0;32mIn[15], line 1\u001b[0m\n\u001b[0;32m----> 1\u001b[0m \u001b[38;5;28;01mimport\u001b[39;00m \u001b[38;5;21;01mpyvista\u001b[39;00m\n",
            "File \u001b[0;32m/lib/python3.12/site-packages/pyvista/__init__.py:14\u001b[0m\n\u001b[1;32m     12\u001b[0m \u001b[38;5;28;01mfrom\u001b[39;00m \u001b[38;5;21;01mpyvista\u001b[39;00m\u001b[38;5;21;01m.\u001b[39;00m\u001b[38;5;21;01m_version\u001b[39;00m \u001b[38;5;28;01mimport\u001b[39;00m __version__\n\u001b[1;32m     13\u001b[0m \u001b[38;5;28;01mfrom\u001b[39;00m \u001b[38;5;21;01mpyvista\u001b[39;00m\u001b[38;5;21;01m.\u001b[39;00m\u001b[38;5;21;01m_version\u001b[39;00m \u001b[38;5;28;01mimport\u001b[39;00m version_info\n\u001b[0;32m---> 14\u001b[0m \u001b[38;5;28;01mfrom\u001b[39;00m \u001b[38;5;21;01mpyvista\u001b[39;00m\u001b[38;5;21;01m.\u001b[39;00m\u001b[38;5;21;01mcore\u001b[39;00m \u001b[38;5;28;01mimport\u001b[39;00m \u001b[38;5;241m*\u001b[39m\n\u001b[1;32m     15\u001b[0m \u001b[38;5;28;01mfrom\u001b[39;00m \u001b[38;5;21;01mpyvista\u001b[39;00m\u001b[38;5;21;01m.\u001b[39;00m\u001b[38;5;21;01mcore\u001b[39;00m \u001b[38;5;28;01mimport\u001b[39;00m _validation\n\u001b[1;32m     16\u001b[0m \u001b[38;5;28;01mfrom\u001b[39;00m \u001b[38;5;21;01mpyvista\u001b[39;00m\u001b[38;5;21;01m.\u001b[39;00m\u001b[38;5;21;01mcore\u001b[39;00m\u001b[38;5;21;01m.\u001b[39;00m\u001b[38;5;21;01m_vtk_core\u001b[39;00m \u001b[38;5;28;01mimport\u001b[39;00m vtk_version_info\n",
            "File \u001b[0;32m/lib/python3.12/site-packages/pyvista/core/__init__.py:6\u001b[0m\n\u001b[1;32m      3\u001b[0m \u001b[38;5;66;03m# ruff: noqa: F401\u001b[39;00m\n\u001b[1;32m      4\u001b[0m \u001b[38;5;28;01mfrom\u001b[39;00m \u001b[38;5;21;01m__future__\u001b[39;00m \u001b[38;5;28;01mimport\u001b[39;00m annotations\n\u001b[0;32m----> 6\u001b[0m \u001b[38;5;28;01mfrom\u001b[39;00m \u001b[38;5;21;01m.\u001b[39;00m \u001b[38;5;28;01mimport\u001b[39;00m _vtk_core\n\u001b[1;32m      7\u001b[0m \u001b[38;5;28;01mfrom\u001b[39;00m \u001b[38;5;21;01m.\u001b[39;00m\u001b[38;5;21;01m_typing_core\u001b[39;00m \u001b[38;5;28;01mimport\u001b[39;00m \u001b[38;5;241m*\u001b[39m\n\u001b[1;32m      8\u001b[0m \u001b[38;5;28;01mfrom\u001b[39;00m \u001b[38;5;21;01m.\u001b[39;00m\u001b[38;5;21;01mcell\u001b[39;00m \u001b[38;5;28;01mimport\u001b[39;00m Cell\n",
            "File \u001b[0;32m/lib/python3.12/site-packages/pyvista/core/_vtk_core.py:21\u001b[0m\n\u001b[1;32m     18\u001b[0m \u001b[38;5;28;01mimport\u001b[39;00m \u001b[38;5;21;01mwarnings\u001b[39;00m\n\u001b[1;32m     20\u001b[0m \u001b[38;5;28;01mfrom\u001b[39;00m \u001b[38;5;21;01mvtkmodules\u001b[39;00m\u001b[38;5;21;01m.\u001b[39;00m\u001b[38;5;21;01mvtkCommonCore\u001b[39;00m \u001b[38;5;28;01mimport\u001b[39;00m vtkVersion\n\u001b[0;32m---> 21\u001b[0m \u001b[38;5;28;01mfrom\u001b[39;00m \u001b[38;5;21;01mvtkmodules\u001b[39;00m\u001b[38;5;21;01m.\u001b[39;00m\u001b[38;5;21;01mvtkImagingSources\u001b[39;00m \u001b[38;5;28;01mimport\u001b[39;00m vtkImageEllipsoidSource\n\u001b[1;32m     22\u001b[0m \u001b[38;5;28;01mfrom\u001b[39;00m \u001b[38;5;21;01mvtkmodules\u001b[39;00m\u001b[38;5;21;01m.\u001b[39;00m\u001b[38;5;21;01mvtkImagingSources\u001b[39;00m \u001b[38;5;28;01mimport\u001b[39;00m vtkImageGaussianSource\n\u001b[1;32m     23\u001b[0m \u001b[38;5;28;01mfrom\u001b[39;00m \u001b[38;5;21;01mvtkmodules\u001b[39;00m\u001b[38;5;21;01m.\u001b[39;00m\u001b[38;5;21;01mvtkImagingSources\u001b[39;00m \u001b[38;5;28;01mimport\u001b[39;00m vtkImageGridSource\n",
            "\u001b[0;31mModuleNotFoundError\u001b[0m: No module named 'vtkmodules.vtkImagingSources'; 'vtkmodules' is not a package"
          ],
          "output_type": "error"
        }
      ],
      "execution_count": 15
    },
    {
      "cell_type": "code",
      "source": "",
      "metadata": {
        "trusted": true
      },
      "outputs": [],
      "execution_count": null
    }
  ]
}