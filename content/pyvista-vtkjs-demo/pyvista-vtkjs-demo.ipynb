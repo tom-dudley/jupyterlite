{
  "metadata": {
    "kernelspec": {
      "name": "python",
      "display_name": "Python (Pyodide)",
      "language": "python"
    },
    "language_info": {
      "codemirror_mode": {
        "name": "python",
        "version": 3
      },
      "file_extension": ".py",
      "mimetype": "text/x-python",
      "name": "python",
      "nbconvert_exporter": "python",
      "pygments_lexer": "ipython3",
      "version": "3.8"
    }
  },
  "nbformat_minor": 5,
  "nbformat": 4,
  "cells": [
    {
      "id": "be687b8a-223d-449e-84ad-6ad6d8783c48",
      "cell_type": "code",
      "source": "%pip install pyvista_vtkjs",
      "metadata": {
        "trusted": true
      },
      "outputs": [],
      "execution_count": null
    },
    {
      "id": "9ce49cd1-bee9-4939-9f45-72ab392e97c7",
      "cell_type": "code",
      "source": "import pyvista_vtkjs as pv",
      "metadata": {
        "trusted": true
      },
      "outputs": [],
      "execution_count": null
    },
    {
      "id": "4942905d-0dfc-435f-b29a-49cdeba02563",
      "cell_type": "code",
      "source": "cylinder = pv.CylinderSource()\ncylinder.SetHeight(2)\ncylinder.SetRadius(2)\n\nplotter = pv.Plotter()\nplotter.add_mesh(cylinder, color=\"red\", show_edges=True)\nplotter.show()",
      "metadata": {
        "trusted": true
      },
      "outputs": [],
      "execution_count": null
    }
  ]
}
